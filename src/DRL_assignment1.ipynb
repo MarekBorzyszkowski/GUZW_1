{
 "cells": [
  {
   "cell_type": "markdown",
   "metadata": {
    "id": "sOofOuBQHL9r"
   },
   "source": [
    "# Deep Reinforcement Learning --- Assignment 1"
   ]
  },
  {
   "cell_type": "markdown",
   "metadata": {
    "id": "xLe4U_TabApv"
   },
   "source": [
    "# The environment\n",
    "The environment was defined in the Maze class.<br><br>\n",
    "## The most important elements:\n",
    "### State\n",
    "State is returned by methods step(action) and state().<br>\n",
    "State consists of 5 values:\n",
    "* position, lastAction, reward, done, info*:\n",
    "* position --- tuple of two real numbers (y, x),\n",
    "* lastAction --- last action passed to step(),\n",
    "* reward --- real number,\n",
    "* done --- boolean value: True if game is over,\n",
    "\n",
    "### Info\n",
    "Method *info()* returns a dictionary containing information about the environment,\n",
    " * dimensions --- shape of the environment,\n",
    " * epsilon --- the probability of taking a random step,\n",
    " * actions --- available actions.\n",
    "\n",
    "### Action\n",
    "Action is determined by value: 1, 2, 4 or 8:\n",
    "*   1 --- right,\n",
    "*   2 --- left,\n",
    "*   4 --- down,\n",
    "*   8 --- up.\n",
    "\n",
    "### Reset\n",
    "reset(fixedPosition=True) resets the eivironment.<br>\n",
    "fixedPosition:\n",
    "* True --- agent starts at position 1, 1\n",
    "* False --- agent starts at random position\n",
    "\n",
    "### Visualisation\n",
    "* display() --- display image of actual environment state\n",
    "* showReplay() --- display video of the last game"
   ]
  },
  {
   "cell_type": "markdown",
   "metadata": {
    "id": "62C4emZIH30a"
   },
   "source": [
    "# Loading environment\n",
    "**Put your ID in the *student_id* variable**\n",
    "\n",
    "---\n",
    "\n"
   ]
  },
  {
   "cell_type": "code",
   "metadata": {
    "id": "wCVcc29UG86g",
    "ExecuteTime": {
     "end_time": "2024-12-02T18:22:30.861923Z",
     "start_time": "2024-12-02T18:22:30.848412Z"
    }
   },
   "source": [
    "import numpy as np\n",
    "import cv2\n",
    "import matplotlib.pyplot as plt\n",
    "from IPython.display import clear_output\n",
    "from IPython.display import Video, display\n",
    "import os\n",
    "\n",
    "class Cell:\n",
    "  cellType = 0\n",
    "  def __init__(self, cellType=0, reward=0, available=True, terminal=False):\n",
    "    self.reward = reward\n",
    "    self.walls = 0\n",
    "    self.cellType = cellType\n",
    "    self.available = available\n",
    "    self.terminal = terminal\n",
    "\n",
    "  def __str__(self):\n",
    "    return self.cellType\n",
    "\n",
    "class Sprite:\n",
    "  def __init__(self, img, mask):\n",
    "    self.img = img\n",
    "    self.mask = mask\n",
    "    self.width, self.height, _ = img.shape\n",
    "\n",
    "  def draw(self, img, position):\n",
    "    img[position[1] : position[1]+self.height, position[0] : position[0]+self.height] &= self.mask\n",
    "    img[position[1] : position[1]+self.height, position[0] : position[0]+self.height] |= self.img\n",
    "\n",
    "class Maze:\n",
    "  def __init__(self, maze, colors, player, background, resolution, epsilon=0):\n",
    "    self.maze = maze\n",
    "    self.colors = colors\n",
    "    self.player = player\n",
    "    self.resolution = resolution\n",
    "    self.epsilon=epsilon\n",
    "    self.background = background\n",
    "    self.mazeHeight, self.mazeWidth = maze.shape\n",
    "    self.imgWidth = self.mazeWidth * self.resolution\n",
    "    self.imgHeight = self.mazeHeight * self.resolution\n",
    "    self.reset()\n",
    "\n",
    "  def reset(self, fixedPosition=True):\n",
    "    self.reward = 0.0\n",
    "    self.cumulativeReward = 0.0\n",
    "    self.steps = 0\n",
    "    self.x = 1*fixedPosition\n",
    "    self.y = 1*fixedPosition\n",
    "    while(not self.maze[self.y, self.x].available):\n",
    "      self.x = np.random.randint(1, self.mazeWidth)\n",
    "      self.y = np.random.randint(1, self.mazeHeight)\n",
    "    self.replay_path = []\n",
    "    self.replay_path.append((self.y, self.x))\n",
    "\n",
    "  def info(self):\n",
    "    info = dict()\n",
    "    info[\"dimensions\"] = self.maze.shape\n",
    "    info[\"epsilon\"] = self.epsilon\n",
    "    info[\"actions\"] = (1, 2, 4, 8)\n",
    "    return info\n",
    "\n",
    "  def render(self):\n",
    "    border = 10\n",
    "    img = self.background.copy()\n",
    "    self.player.draw(img, (self.x*self.resolution, self.y*self.resolution))\n",
    "    img = img[self.resolution-border: -self.resolution+border, self.resolution-border: -self.resolution+border]\n",
    "    return img\n",
    "\n",
    "  def display(self):\n",
    "    plt.imshow(self.render())\n",
    "    plt.show()\n",
    "\n",
    "  def showReplay(self):\n",
    "    video_path = \"tmp.mp4\"\n",
    "    video = cv2.VideoWriter(video_path, cv2.VideoWriter_fourcc(*\"mp4v\"), 10.0, (env.render().shape[1::-1]))\n",
    "    for pos in self.replay_path:\n",
    "      self.y, self.x = pos\n",
    "      video.write(env.render())\n",
    "    video.release()\n",
    "    fileToDisplay = \"video.mp4\"\n",
    "    os.system(f\"ffmpeg -loglevel quiet -y -i {video_path} -vcodec libx264 -x264opts keyint=123:min-keyint=120 -an {fileToDisplay}\")\n",
    "    display(Video(fileToDisplay, embed=True))\n",
    "\n",
    "  def action(self, dir):\n",
    "    dir_e = int((np.random.randint(1,3)<<2)/((dir|dir>>1)&5)*(np.random.random()<self.epsilon))\n",
    "    dir = dir*(not dir_e) | dir_e\n",
    "    x=self.x + (dir&1) - (dir>>1&1)\n",
    "    y=self.y + (dir>>2&1) - (dir>>3&1)\n",
    "    self.x=x*self.maze[y, x].available + self.x*(not self.maze[y, x].available)\n",
    "    self.y=y*self.maze[y, x].available + self.y*(not self.maze[y, x].available)\n",
    "    self.replay_path.append((self.y, self.x))\n",
    "    return dir\n",
    "\n",
    "  def state(self, lastAction = 0):\n",
    "    done = self.maze[self.y, self.x].terminal\n",
    "    reward = self.maze[self.y, self.x].reward\n",
    "    info = self.info()\n",
    "    return (self.y, self.x), lastAction, reward, done\n",
    "\n",
    "  def step(self, action):\n",
    "    action = self.action(action)\n",
    "    return self.state(action)\n"
   ],
   "outputs": [],
   "execution_count": 3
  },
  {
   "cell_type": "code",
   "metadata": {
    "id": "b9C8gGvEH4z2",
    "ExecuteTime": {
     "end_time": "2024-12-02T18:23:11.228460Z",
     "start_time": "2024-12-02T18:23:11.223090Z"
    }
   },
   "source": [
    "from urllib.request import urlopen\n",
    "import pickle\n",
    "\n",
    "def download_dataset(filename):\n",
    "  base_url =f\"https://github.com/pa-k/DRL2022/blob/main/DRL_assignment1/{filename}?raw=true\"\n",
    "  url = urlopen(base_url)\n",
    "  binary_data = url.read()\n",
    "  with open(filename, \"wb\") as f:\n",
    "    f.write(binary_data)\n",
    "\n",
    "def loadEnv(student_id):\n",
    "  file_id = student_id%5\n",
    "  filename = f\"DRL_a{file_id}.pickle\"\n",
    "  if not os.path.exists(filename):\n",
    "    download_dataset(filename)\n",
    "  with open(filename, 'rb') as file2:\n",
    "    env = pickle.load(file2)\n",
    "  return env\n",
    "\n",
    "student_id = 184266    #Your id\n",
    "env = loadEnv(student_id)\n"
   ],
   "outputs": [],
   "execution_count": 5
  },
  {
   "cell_type": "markdown",
   "metadata": {
    "id": "-1vnf1_2H6oy"
   },
   "source": [
    "#Printing environment and the state details"
   ]
  },
  {
   "cell_type": "code",
   "execution_count": 3,
   "metadata": {
    "ExecuteTime": {
     "end_time": "2024-12-01T13:45:49.302833Z",
     "start_time": "2024-12-01T13:45:49.295087Z"
    },
    "colab": {
     "base_uri": "https://localhost:8080/"
    },
    "id": "ZIBs_RLdII1P",
    "outputId": "ee0da900-e112-421c-985a-cc263dbfff39"
   },
   "outputs": [
    {
     "name": "stdout",
     "output_type": "stream",
     "text": [
      "info {'dimensions': (7, 8), 'epsilon': 0.0, 'actions': (1, 2, 4, 8)}\n",
      "environment dimensions (7, 8)\n",
      "probability of random step 0.0\n",
      "allowed actions (1, 2, 4, 8)\n",
      "\n",
      "agent position (1, 1)\n",
      "performed action 0\n",
      "last reward 0\n",
      "the game is over False\n"
     ]
    }
   ],
   "source": [
    "info = env.info()\n",
    "print(\"info\", info)\n",
    "print(\"environment dimensions\", info[\"dimensions\"])\n",
    "print(\"probability of random step\", info[\"epsilon\"])\n",
    "print(\"allowed actions\", info[\"actions\"])\n",
    "\n",
    "actPos, action, reward, done = env.state()\n",
    "print(\"\\nagent position\", actPos)\n",
    "print(\"performed action\", action)\n",
    "print(\"last reward\", reward)\n",
    "print(\"the game is over\", done)"
   ]
  },
  {
   "cell_type": "markdown",
   "metadata": {
    "id": "fuV7wkoJIK7J"
   },
   "source": [
    "#Visualization examples"
   ]
  },
  {
   "cell_type": "markdown",
   "metadata": {
    "id": "X3OKuByhIcwd"
   },
   "source": [
    "##Example 1:\n",
    "###Print environment status and display visualization in four steps: right, right, left, down"
   ]
  },
  {
   "cell_type": "code",
   "execution_count": 7,
   "metadata": {
    "colab": {
     "base_uri": "https://localhost:8080/",
     "height": 1000
    },
    "id": "PqBPDcYaIc8d",
    "outputId": "e10560c5-a257-4f6c-978a-0ab4eeec1220"
   },
   "outputs": [
    {
     "name": "stdout",
     "output_type": "stream",
     "text": [
      "((1, 1), 0, 0, False)\n"
     ]
    },
    {
     "data": {
      "image/png": "[encoded data removed]",
      "text/plain": [
       "<Figure size 640x480 with 1 Axes>"
      ]
     },
     "metadata": {},
     "output_type": "display_data"
    },
    {
     "name": "stdout",
     "output_type": "stream",
     "text": [
      "\n",
      "\n",
      " ((1, 2), 1, 0, False)\n"
     ]
    },
    {
     "data": {
      "image/png": "[encoded data removed]",
      "text/plain": [
       "<Figure size 640x480 with 1 Axes>"
      ]
     },
     "metadata": {},
     "output_type": "display_data"
    },
    {
     "name": "stdout",
     "output_type": "stream",
     "text": [
      "\n",
      "\n",
      " ((1, 3), 1, 0, False)\n"
     ]
    },
    {
     "data": {
      "image/png": "[encoded data removed]",
      "text/plain": [
       "<Figure size 640x480 with 1 Axes>"
      ]
     },
     "metadata": {},
     "output_type": "display_data"
    },
    {
     "name": "stdout",
     "output_type": "stream",
     "text": [
      "\n",
      "\n",
      " ((1, 2), 2, 0, False)\n"
     ]
    },
    {
     "data": {
      "image/png": "[encoded data removed]",
      "text/plain": [
       "<Figure size 640x480 with 1 Axes>"
      ]
     },
     "metadata": {},
     "output_type": "display_data"
    },
    {
     "name": "stdout",
     "output_type": "stream",
     "text": [
      "\n",
      "\n",
      " ((2, 2), 4, 0, False)\n"
     ]
    },
    {
     "data": {
      "image/png": "[encoded data removed]",
      "text/plain": [
       "<Figure size 640x480 with 1 Axes>"
      ]
     },
     "metadata": {},
     "output_type": "display_data"
    }
   ],
   "source": [
    "steps = [1, 1, 2, 4] # right, right, left, down\n",
    "env.reset()\n",
    "print(env.state())\n",
    "env.display()\n",
    "for step in steps:\n",
    "  state = env.step(step)\n",
    "  print(\"\\n\\n\", state)\n",
    "  env.display()"
   ]
  },
  {
   "cell_type": "markdown",
   "metadata": {
    "id": "JO_MhqJWI5Gk"
   },
   "source": [
    "##Example 2:\n",
    "### Generating a video of last game"
   ]
  },
  {
   "cell_type": "code",
   "execution_count": 5,
   "metadata": {
    "ExecuteTime": {
     "end_time": "2024-12-02T17:48:57.660637Z",
     "start_time": "2024-12-02T17:48:57.524820Z"
    },
    "colab": {
     "base_uri": "https://localhost:8080/",
     "height": 342
    },
    "id": "8jDnoN-OIdCe",
    "outputId": "f3fefe3b-3bd0-4eea-b5cc-86a7ec612b7f"
   },
   "outputs": [
    {
     "data": {
      "text/html": [
       "<video controls  >\n",
       " <source src=\"data:video/mp4;base64,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\" type=\"video/mp4\">\n",
       " Your browser does not support the video tag.\n",
       " </video>"
      ],
      "text/plain": [
       "<IPython.core.display.Video object>"
      ]
     },
     "metadata": {},
     "output_type": "display_data"
    }
   ],
   "source": [
    "  env.reset()\n",
    "  env.step(1) # right\n",
    "  env.step(8) # up\n",
    "  env.step(4) # down\n",
    "  env.step(2) # left\n",
    "  env.step(8) # up\n",
    "  env.step(1) # right\n",
    "  env.step(1) # right\n",
    "  env.step(1) # right\n",
    "  env.step(1) # right\n",
    "  env.step(1) # right\n",
    "  env.showReplay()"
   ]
  },
  {
   "cell_type": "markdown",
   "metadata": {
    "id": "9SM11SlOJKFv"
   },
   "source": [
    "## Example 3:\n",
    "### Simple random agent with Visualization"
   ]
  },
  {
   "cell_type": "code",
   "execution_count": 10,
   "metadata": {
    "ExecuteTime": {
     "end_time": "2024-12-01T18:57:38.104445Z",
     "start_time": "2024-12-01T18:57:38.096765Z"
    },
    "colab": {
     "base_uri": "https://localhost:8080/",
     "height": 359
    },
    "id": "XcaLZtXoIdFw",
    "outputId": "ae6d49be-1051-4a2e-825f-79cc1ad9f011"
   },
   "outputs": [
    {
     "name": "stdout",
     "output_type": "stream",
     "text": [
      ":<\n"
     ]
    }
   ],
   "source": [
    "class RandomAgent:\n",
    "  def __init__(self, actions):\n",
    "    self.actions = actions\n",
    "\n",
    "  def play(self, state):\n",
    "    return np.random.choice(self.actions)\n",
    "\n",
    "env.reset()\n",
    "info = env.info()\n",
    "state = env.state()\n",
    "agent = RandomAgent(info[\"actions\"])\n",
    "for step in range(300):\n",
    "  action = agent.play(state)\n",
    "  state = env.step(action)\n",
    "  if state[3] == True:\n",
    "    break\n",
    "env.showReplay()\n",
    "if(state[2]>0):\n",
    "  print(\"Yupi :)\")\n",
    "if(state[2]<0):\n",
    "  print(\":<\")"
   ]
  },
  {
   "cell_type": "markdown",
   "metadata": {
    "id": "T1GvDOPPHbpx"
   },
   "source": [
    "# PL\n",
    "### Zadanie 1 --- max 20 p.\n",
    "\n",
    "Zaimplementuj algorytm Monte-Carlo do uczenia wartość *V*.<br>\n",
    "Kluczowe elementy:\n",
    "* Implementacja tablicy wartości *V*.\n",
    "* Opracowanie funkcji wyboru najlepszej akcji na podstawie tablicy wartości *V*.\n",
    "* Implementacja algorytmu aktualizacji tablicy wartości *V* na podstawie zebranych epizodów.\n",
    "* Implementacja dwóch metody eksploracji: e-greedy + inna metoda.\n",
    "* Dobór długości epizodów, liczby epizodów i epok.\n",
    "\n",
    "Przetestuj uczenie:\n",
    "* bez kary za krok,\n",
    "* z karą -0.1 za krok,\n",
    "* zaproponuj własną karę za krok i inne usprawnienia.\n",
    "\n",
    "Jak kara za krok wpływa na zaimplementowaną motodę uczenia wartości *V*?<br>\n",
    "Przedstaw wyniki oraz wnioski z uczenia wartości *V* metodą Monte-Carlo."
   ]
  },
  {
   "cell_type": "markdown",
   "metadata": {
    "id": "rycDXUL9HgyR"
   },
   "source": [
    "# Eng\n",
    "### Assignment 1 --- max 20 p.\n",
    "Implement the Monte Carlo algorithm for learning the *V-value* function.<br>\n",
    "Key elements:\n",
    "* V-value array implementation.\n",
    "* Development of a function to choose the best action based on the V-value array.\n",
    "* Implementation of an algorithm to update the *V-values* based on the collected episodes.\n",
    "* Implementation of the two exploration methods: e-greedy + other method.\n",
    "* Selection of the maximum length of episodes, number of episodes and epochs.\n",
    "\n",
    "Test learning:\n",
    "* without step penalty,\n",
    "* with -0.1 penalty per step,\n",
    "* suggest your own step penalty and other improvements.\n",
    "\n",
    "How does the step penalty affect the implemented V learning method? <br>\n",
    "Present the results and conclusions from learning the V-values using the Monte-Carlo method."
   ]
  },
  {
   "cell_type": "markdown",
   "metadata": {
    "id": "k2u14Ob9HmO_"
   },
   "source": [
    "# My Solution"
   ]
  },
  {
   "cell_type": "code",
   "execution_count": null,
   "metadata": {
    "ExecuteTime": {
     "end_time": "2024-11-30T12:57:11.749748Z",
     "start_time": "2024-11-30T12:57:11.747571Z"
    },
    "id": "AJF7BUHEHbWo"
   },
   "outputs": [],
   "source": [
    "class Monte_Carlo_agent:\n",
    "  def __init__(self, env, actions):\n",
    "    self.environment = env\n",
    "    self.env_shape = self.environment.info()[\"dimensions\"]\n",
    "    self.actions = actions\n",
    "    self.v_table = [[0]*self.env_shape[1] for _ in range(self.env_shape[0])]\n",
    "\n",
    "  def decide(self, state):\n",
    "    return NotImplementedError\n",
    "\n",
    "  def perform_run(self):\n",
    "    return NotImplementedError\n",
    "\n",
    "  def update_v(self, states):\n",
    "      return NotImplementedError\n",
    "\n",
    "  def train(self, number_of_epochs=100):\n",
    "    return NotImplementedError\n",
    "\n",
    "  def plot_heatmap(self):\n",
    "      return NotImplementedError"
   ]
  }
 ],
 "metadata": {
  "colab": {
   "provenance": []
  },
  "kernelspec": {
   "display_name": "Python 3 (ipykernel)",
   "language": "python",
   "name": "python3"
  },
  "language_info": {
   "codemirror_mode": {
    "name": "ipython",
    "version": 3
   },
   "file_extension": ".py",
   "mimetype": "text/x-python",
   "name": "python",
   "nbconvert_exporter": "python",
   "pygments_lexer": "ipython3",
   "version": "3.11.2"
  }
 },
 "nbformat": 4,
 "nbformat_minor": 4
}
