{
 "cells": [
  {
   "cell_type": "markdown",
   "metadata": {
    "id": "sOofOuBQHL9r"
   },
   "source": [
    "# Deep Reinforcement Learning --- Assignment 1"
   ]
  },
  {
   "cell_type": "markdown",
   "metadata": {
    "id": "xLe4U_TabApv"
   },
   "source": [
    "#The environment\n",
    "The environment was defined in the Maze class.<br><br>\n",
    "##The most important elements:\n",
    "###State\n",
    "State is returned by methods step(action) and state().<br>\n",
    "State consists of 5 values:\n",
    "*position, lastAction, reward, done, info*:\n",
    "* position --- tuple of two real numbers (y, x),\n",
    "* lastAction --- last action passed to step(),\n",
    "* reward --- real number,\n",
    "* done --- boolean value: True if game is over,\n",
    "\n",
    "###Info\n",
    "Method *info()* returns a dictionary containing information about the environment,\n",
    " * dimensions --- shape of the environment,\n",
    " * epsilon --- the probability of taking a random step,\n",
    " * actions --- available actions.\n",
    "\n",
    "###Action\n",
    "Action is determined by value: 1, 2, 4 or 8:\n",
    "*   1 --- right,\n",
    "*   2 --- left,\n",
    "*   4 --- down,\n",
    "*   8 --- up.\n",
    "\n",
    "###Reset\n",
    "reset(fixedPosition=True) resets the eivironment.<br>\n",
    "fixedPosition:\n",
    "* True --- agent starts at position 1, 1\n",
    "* False --- agent starts at random position\n",
    "\n",
    "###Visualisation\n",
    "* display() --- display image of actual environment state\n",
    "* showReplay() --- display video of the last game"
   ]
  },
  {
   "cell_type": "markdown",
   "metadata": {
    "id": "62C4emZIH30a"
   },
   "source": [
    "#Loading environment\n",
    "**Put your ID in the *student_id* variable**\n",
    "\n",
    "---\n",
    "\n"
   ]
  },
  {
   "cell_type": "code",
   "execution_count": 27,
   "metadata": {
    "ExecuteTime": {
     "end_time": "2024-11-29T18:55:45.404845Z",
     "start_time": "2024-11-29T18:55:45.385689Z"
    },
    "id": "wCVcc29UG86g"
   },
   "outputs": [],
   "source": [
    "import numpy as np\n",
    "import cv2\n",
    "import matplotlib.pyplot as plt\n",
    "from IPython.display import clear_output\n",
    "from IPython.display import Video, display\n",
    "import os\n",
    "\n",
    "class Cell:\n",
    "  cellType = 0\n",
    "  def __init__(self, cellType=0, reward=0, available=True, terminal=False):\n",
    "    self.reward = reward\n",
    "    self.walls = 0\n",
    "    self.cellType = cellType\n",
    "    self.available = available\n",
    "    self.terminal = terminal\n",
    "\n",
    "  def __str__(self):\n",
    "    return self.cellType\n",
    "\n",
    "class Sprite:\n",
    "  def __init__(self, img, mask):\n",
    "    self.img = img\n",
    "    self.mask = mask\n",
    "    self.width, self.height, _ = img.shape\n",
    "\n",
    "  def draw(self, img, position):\n",
    "    img[position[1] : position[1]+self.height, position[0] : position[0]+self.height] &= self.mask\n",
    "    img[position[1] : position[1]+self.height, position[0] : position[0]+self.height] |= self.img\n",
    "\n",
    "class Maze:\n",
    "  def __init__(self, maze, colors, player, background, resolution, epsilon=0):\n",
    "    self.maze = maze\n",
    "    self.colors = colors\n",
    "    self.player = player\n",
    "    self.resolution = resolution\n",
    "    self.epsilon=epsilon\n",
    "    self.background = background\n",
    "    self.mazeHeight, self.mazeWidth = maze.shape\n",
    "    self.imgWidth = self.mazeWidth * self.resolution\n",
    "    self.imgHeight = self.mazeHeight * self.resolution\n",
    "    self.reset()\n",
    "\n",
    "  def reset(self, fixedPosition=True):\n",
    "    self.reward = 0.0\n",
    "    self.cumulativeReward = 0.0\n",
    "    self.steps = 0\n",
    "    self.x = 1*fixedPosition\n",
    "    self.y = 1*fixedPosition\n",
    "    while(not self.maze[self.y, self.x].available):\n",
    "      self.x = np.random.randint(1, self.mazeWidth)\n",
    "      self.y = np.random.randint(1, self.mazeHeight)\n",
    "    self.replay_path = []\n",
    "    self.replay_path.append((self.y, self.x))\n",
    "\n",
    "  def info(self):\n",
    "    info = dict()\n",
    "    info[\"dimensions\"] = self.maze.shape\n",
    "    info[\"epsilon\"] = self.epsilon\n",
    "    info[\"actions\"] = (1, 2, 4, 8)\n",
    "    return info\n",
    "\n",
    "  def render(self):\n",
    "    border = 10\n",
    "    img = self.background.copy()\n",
    "    self.player.draw(img, (self.x*self.resolution, self.y*self.resolution))\n",
    "    img = img[self.resolution-border: -self.resolution+border, self.resolution-border: -self.resolution+border]\n",
    "    return img\n",
    "\n",
    "  def display(self):\n",
    "    plt.imshow(self.render())\n",
    "    plt.show()\n",
    "\n",
    "  def showReplay(self):\n",
    "    video_path = \"tmp.mp4\"\n",
    "    video = cv2.VideoWriter(video_path, cv2.VideoWriter_fourcc(*\"mp4v\"), 10.0, (env.render().shape[1::-1]))\n",
    "    for pos in self.replay_path:\n",
    "      self.y, self.x = pos\n",
    "      video.write(env.render())\n",
    "    video.release()\n",
    "    fileToDisplay = \"video.mp4\"\n",
    "    os.system(f\"ffmpeg -loglevel quiet -y -i {video_path} -vcodec libx264 -x264opts keyint=123:min-keyint=120 -an {fileToDisplay}\")\n",
    "    display(Video(fileToDisplay, embed=True))\n",
    "\n",
    "  def action(self, dir):\n",
    "    dir_e = int((np.random.randint(1,3)<<2)/((dir|dir>>1)&5)*(np.random.random()<self.epsilon))\n",
    "    dir = dir*(not dir_e) | dir_e\n",
    "    x=self.x + (dir&1) - (dir>>1&1)\n",
    "    y=self.y + (dir>>2&1) - (dir>>3&1)\n",
    "    self.x=x*self.maze[y, x].available + self.x*(not self.maze[y, x].available)\n",
    "    self.y=y*self.maze[y, x].available + self.y*(not self.maze[y, x].available)\n",
    "    self.replay_path.append((self.y, self.x))\n",
    "    return dir\n",
    "\n",
    "  def state(self, lastAction = 0):\n",
    "    done = self.maze[self.y, self.x].terminal\n",
    "    reward = self.maze[self.y, self.x].reward\n",
    "    info = self.info()\n",
    "    return (self.y, self.x), lastAction, reward, done\n",
    "\n",
    "  def step(self, action):\n",
    "    action = self.action(action)\n",
    "    return self.state(action)\n"
   ]
  },
  {
   "cell_type": "code",
   "execution_count": 28,
   "metadata": {
    "ExecuteTime": {
     "end_time": "2024-11-29T18:55:45.821705Z",
     "start_time": "2024-11-29T18:55:45.814987Z"
    },
    "id": "b9C8gGvEH4z2"
   },
   "outputs": [],
   "source": [
    "from urllib.request import urlopen\n",
    "import pickle\n",
    "\n",
    "def download_dataset(filename):\n",
    "  base_url =f\"https://github.com/pa-k/DRL2022/blob/main/DRL_assignment1/{filename}?raw=true\"\n",
    "  url = urlopen(base_url)\n",
    "  binary_data = url.read()\n",
    "  with open(filename, \"wb\") as f:\n",
    "    f.write(binary_data)\n",
    "\n",
    "def loadEnv(student_id):\n",
    "  file_id = student_id%5\n",
    "  filename = f\"DRL_a{file_id}.pickle\"\n",
    "  if not os.path.exists(filename):\n",
    "    download_dataset(filename)\n",
    "  with open(filename, 'rb') as file2:\n",
    "    env = pickle.load(file2)\n",
    "  return env\n",
    "\n",
    "student_id = 0    #Your id\n",
    "env = loadEnv(student_id)\n"
   ]
  },
  {
   "cell_type": "markdown",
   "metadata": {
    "id": "-1vnf1_2H6oy"
   },
   "source": [
    "#Printing environment and the state details"
   ]
  },
  {
   "cell_type": "code",
   "execution_count": 29,
   "metadata": {
    "ExecuteTime": {
     "end_time": "2024-11-29T18:55:46.896135Z",
     "start_time": "2024-11-29T18:55:46.891377Z"
    },
    "colab": {
     "base_uri": "https://localhost:8080/"
    },
    "id": "ZIBs_RLdII1P",
    "outputId": "ee0da900-e112-421c-985a-cc263dbfff39"
   },
   "outputs": [
    {
     "name": "stdout",
     "output_type": "stream",
     "text": [
      "info {'dimensions': (7, 8), 'epsilon': 0.0, 'actions': (1, 2, 4, 8)}\n",
      "environment dimensions (7, 8)\n",
      "probability of random step 0.0\n",
      "allowed actions (1, 2, 4, 8)\n",
      "\n",
      "agent position (1, 1)\n",
      "performed action 0\n",
      "last reward 0\n",
      "the game is over False\n"
     ]
    }
   ],
   "source": [
    "info = env.info()\n",
    "print(\"info\", info)\n",
    "print(\"environment dimensions\", info[\"dimensions\"])\n",
    "print(\"probability of random step\", info[\"epsilon\"])\n",
    "print(\"allowed actions\", info[\"actions\"])\n",
    "\n",
    "actPos, action, reward, done = env.state()\n",
    "print(\"\\nagent position\", actPos)\n",
    "print(\"performed action\", action)\n",
    "print(\"last reward\", reward)\n",
    "print(\"the game is over\", done)"
   ]
  },
  {
   "cell_type": "markdown",
   "metadata": {
    "id": "fuV7wkoJIK7J"
   },
   "source": [
    "#Visualization examples"
   ]
  },
  {
   "cell_type": "markdown",
   "metadata": {
    "id": "X3OKuByhIcwd"
   },
   "source": [
    "##Example 1:\n",
    "###Print environment status and display visualization in four steps: right, right, left, down"
   ]
  },
  {
   "cell_type": "code",
   "execution_count": 32,
   "metadata": {
    "ExecuteTime": {
     "end_time": "2024-11-29T18:55:48.621573Z",
     "start_time": "2024-11-29T18:55:48.619153Z"
    },
    "colab": {
     "base_uri": "https://localhost:8080/",
     "height": 1000
    },
    "id": "PqBPDcYaIc8d",
    "outputId": "e10560c5-a257-4f6c-978a-0ab4eeec1220"
   },
   "outputs": [
    {
     "name": "stdout",
     "output_type": "stream",
     "text": [
      "((1, 1), 0, 0, False)\n"
     ]
    },
    {
     "data": {
      "image/png": "[encoded data removed]",
      "text/plain": [
       "<Figure size 640x480 with 1 Axes>"
      ]
     },
     "metadata": {},
     "output_type": "display_data"
    },
    {
     "name": "stdout",
     "output_type": "stream",
     "text": [
      "\n",
      "\n",
      " ((1, 2), 1, 0, False)\n"
     ]
    },
    {
     "data": {
      "image/png": "[encoded data removed]",
      "text/plain": [
       "<Figure size 640x480 with 1 Axes>"
      ]
     },
     "metadata": {},
     "output_type": "display_data"
    },
    {
     "name": "stdout",
     "output_type": "stream",
     "text": [
      "\n",
      "\n",
      " ((1, 3), 1, 0, False)\n"
     ]
    },
    {
     "data": {
      "image/png": "[encoded data removed]",
      "text/plain": [
       "<Figure size 640x480 with 1 Axes>"
      ]
     },
     "metadata": {},
     "output_type": "display_data"
    },
    {
     "name": "stdout",
     "output_type": "stream",
     "text": [
      "\n",
      "\n",
      " ((1, 2), 2, 0, False)\n"
     ]
    },
    {
     "data": {
      "image/png": "[encoded data removed]",
      "text/plain": [
       "<Figure size 640x480 with 1 Axes>"
      ]
     },
     "metadata": {},
     "output_type": "display_data"
    },
    {
     "name": "stdout",
     "output_type": "stream",
     "text": [
      "\n",
      "\n",
      " ((2, 2), 4, 0, False)\n"
     ]
    },
    {
     "data": {
      "image/png": "[encoded data removed]",
      "text/plain": [
       "<Figure size 640x480 with 1 Axes>"
      ]
     },
     "metadata": {},
     "output_type": "display_data"
    }
   ],
   "source": [
    "steps = [1, 1, 2, 4] # right, right, left, down\n",
    "env.reset()\n",
    "print(env.state())\n",
    "env.display()\n",
    "for step in steps:\n",
    "  state = env.step(step)\n",
    "  print(\"\\n\\n\", state)\n",
    "  env.display()"
   ]
  },
  {
   "cell_type": "markdown",
   "metadata": {
    "id": "JO_MhqJWI5Gk"
   },
   "source": [
    "##Example 2:\n",
    "### Generating a video of last game"
   ]
  },
  {
   "cell_type": "code",
   "execution_count": 31,
   "metadata": {
    "ExecuteTime": {
     "end_time": "2024-11-29T18:55:50.993496Z",
     "start_time": "2024-11-29T18:55:50.845316Z"
    },
    "colab": {
     "base_uri": "https://localhost:8080/",
     "height": 342
    },
    "id": "8jDnoN-OIdCe",
    "outputId": "f3fefe3b-3bd0-4eea-b5cc-86a7ec612b7f"
   },
   "outputs": [
    {
     "data": {
      "text/html": [
       "<video controls  >\n",
       " <source src=\"data:video/mp4;base64,AAAAIGZ0eXBpc29tAAACAGlzb21pc28yYXZjMW1wNDEAAAAIZnJlZQAAHmRtZGF0AAACrgYF//+q3EXpvebZSLeWLNgg2SPu73gyNjQgLSBjb3JlIDE2NCByMzA5NSBiYWVlNDAwIC0gSC4yNjQvTVBFRy00IEFWQyBjb2RlYyAtIENvcHlsZWZ0IDIwMDMtMjAyMiAtIGh0dHA6Ly93d3cudmlkZW9sYW4ub3JnL3gyNjQuaHRtbCAtIG9wdGlvbnM6IGNhYmFjPTEgcmVmPTMgZGVibG9jaz0xOjA6MCBhbmFseXNlPTB4MzoweDExMyBtZT1oZXggc3VibWU9NyBwc3k9MSBwc3lfcmQ9MS4wMDowLjAwIG1peGVkX3JlZj0xIG1lX3JhbmdlPTE2IGNocm9tYV9tZT0xIHRyZWxsaXM9MSA4eDhkY3Q9MSBjcW09MCBkZWFkem9uZT0yMSwxMSBmYXN0X3Bza2lwPTEgY2hyb21hX3FwX29mZnNldD0tMiB0aHJlYWRzPTYgbG9va2FoZWFkX3RocmVhZHM9MSBzbGljZWRfdGhyZWFkcz0wIG5yPTAgZGVjaW1hdGU9MSBpbnRlcmxhY2VkPTAgYmx1cmF5X2NvbXBhdD0wIGNvbnN0cmFpbmVkX2ludHJhPTAgYmZyYW1lcz0zIGJfcHlyYW1pZD0yIGJfYWRhcHQ9MSBiX2JpYXM9MCBkaXJlY3Q9MSB3ZWlnaHRiPTEgb3Blbl9nb3A9MCB3ZWlnaHRwPTIga2V5aW50PTEyMyBrZXlpbnRfbWluPTYyIHNjZW5lY3V0PTQwIGludHJhX3JlZnJlc2g9MCByY19sb29rYWhlYWQ9NDAgcmM9Y3JmIG1idHJlZT0xIGNyZj0yMy4wIHFjb21wPTAuNjAgcXBtaW49MCBxcG1heD02OSBxcHN0ZXA9NCBpcF9yYXRpbz0xLjQwIGFxPTE6MS4wMACAAAAHYmWIhAP/8eWZPWWP8QmK0hEQS5wAVSrOATzsA276nywZIT0Zd3lJFG7KuT/zvTKmJLVeTeD/0qXlWzgUjFAyqHujs2eRo4z2MnXWEw5KL7/6ScCg2EOLLfXnuSNCjJerT5hUWsLSZnTK/ILw13KGEIpGjGdQ9qF1ro4z7oqKCkKBWl6w1w9YoN+QyQApWdJj1LuZSscZ2UyxEK9rcVY2MZHhwsjrobodYvG8idolSu2FR0gA3CE6XnCgVd66Hx+/BmZlDc6h08KL575+z0otfL26PAVdvRpyeSwLYYZhb11q/0GRPMI16zNf8ECJWV+0VyXk9ez1NUX3UOk8MmP4kC+U+UyCuUs1ymmaYPueH711VxpfPY8JiYZ8Ffe2wmY1hMGdDTIuEcZVkwVWU6ykkpK/2289/oMfs/S5pnTFfc1upuuJRT/xrEkyH0jsiSobkSwdLf5R3UJB70jJ8Gzf/MhaytXKLIzISORpDfrlBWa5ajCDV+PD2nHKPfu1xCLkDaekVIpgFK1LdmRhLAIeOWjPsVJT7RTZM54rFbx8oiNpsb3InHvb75aD3TJxbgE+sHMAXekzbsIvDslzTne9YCJd3pqA6Ylo8NJsNsz4PWHqcr5MY5sMYw/l1VMIHSo0URtk75z2X9gW2iy/dMo/UZCZGkI020nx485+zqZJ12cNN4KtVI6xboMsM4y7FH21sjhccMPyHEc/9PhlGbSdC2KTal8uOoYnloGYhQG4khK3PKZCXXBz9MTHD5RxkD3ptlqwlKVFjXfgbJqhsADlA5NDonjLcLclrT8x0sxdofxI0bYDJT8af9gMGY8O+0iQwSE/9MLvgXVykCmonvItD8QXVsyBaqdAOIdm543w0gkeRZo0NKlT29hvB+3xhaBsvI6UOfcSbx59iiiMK6p5pU6ETVo2jaFsaozLTqD0mJKgMiPpQ8VOf564XEgLuBxC6L1q6Vf5kJ8ASzE2ZLEN7hx7Sl0sEM/B5xdm9Di6GGxZHvJgy4P7b+cENAB5MbcxdK4v1iX4hnfvmXXF4byzffWYdd7u8OhnIKZrS+OVSjl1ZG1yGhnyYxxLouEm/iRC63hsJzvsPnZC+bnl8eB3hS5/L74c/Dp9Llr2oyWojOYRhvWVZEekpjaQER6LAXzjNbm0p5KqKjgkkYd0fvV2svE1spJ+fmCuMgR+LWoz0HcgD8GanOcP27Luc4I8EVpbYkr3Z6hyAqzZ+a3XTtbAZuzh/7JOHFQ3u65pesiV7q84yAFlojJhZ9NjdIbL22LvpUp7xCw06ntqx9Z68Hk2JSvjonovBv/4c/zkNJUOIXixfNi+40wAyQGuM3I8O95v8aiB/L3uw5N9++L1PWBIbLBSOzpJpTz7cqqfzzgjMo6v7U+xer9/Ip/V5seB7pSHSNf9AVtdNvjm0YNiSlxZkT3j8ub2EJze3Gtwd4DxYynu3inmlxP/qFV4hznMSiHDNvLrRJYtaSExbI4lUH5Yw+iv0KgJ0ewc/a3bVUVffGx04r9/VY1zuhOjs+BVMRS4fp405iMxh/4+b8hAZQXv41818IzVfvRqMji8brZwzLbk/aQ9a5jfoCNCiEh2nZ2znvedncuW3HqK9Rb3HDsDpvSRZAugckMAf3gZBzs/Bnb4vgbAV3YR9IMx/tTewmNqdHACZDU9XgGuRu7h0/Vai8OfUwHnjedhMjU36sjtMnWkApCou+6wSN5YTR7zUkKAaBW+IzM2DPtsgOWoeVSRWJdzE7X3vKPFqWLgd9svxum2hROyrWHeQTucI+1VTRxmC/F051xzq36KHBgrqOc1b1W3aNOPKXKI8Rro4Uvdct8v2rXFsxI1dqF5T1JwsS/EjZTmnVh8gaYyBp/kDBqDYqNrDyNh1+MPVo81bTi3ZCxc/HZLsx3yF9iprb73foM/XPMHjhiPTKaHGl3zAuq6bYLGFGY8YHuhNtULrx+zVmTEDNNsIn3u7REksD+TBWfeCkrf6pKp0YEgvINtu7fHjuK31Puef8Lq2Kr6N4Me3N2znFKX3WywnncUuLZBl0Eond0INddpR49ARC2nujEpA2kksaFzFbBPZR96FAT5ix1RV9JhBfe/voG7FOUmRHszZci6XYDr9W7L2xHLuNrZfZGAxYa/PN6N50uq02L7CRyH+B6DVBikRcLnN1KEKD91+hosYCDZeNEdRjaBbTaedqjvdifgJjQZCQyzx/4Uq5e3lNiGv60lhIewDDC1d5puAQ6q7KgYXlqnmWtKFBectzSsXxbmGRQXdSlXF4OmPc4q052s0sbCreJj+Pt8TZod6VRPoIp2dt/c2Kjg6Ts7w0fBmu1LHLKud94jdNjfFJ33UoPnEqxALn3R3NNarHswMuUP0mbMSjdVKIiW8wRUfKt675O5sL3pIkiWikCMe3mqSOAOJZc5FLGDXfb6Vj/tABF9DDtJKisPr1AZC5bDbuGCxpNeFhteSMdDthzhRzUQmLlxsqCiWxIJVQz1AVD6J34xlrKxc2ouslROOK9AdC8ngQAAAntBmiFsVwAqn+qNdHdGeLlN7Cf6QxF6hZZIMkf6HZvo/Tef3O0hJK4vzMaPkbsu+gS4/iV3u9TRCaDpTzxz8++gZ84SlM5jkNKlbTZ/v+Kxl1VAnPtWs0Fi38cDgLKex3ahHN5y5sdhTD9RHhc0xYYw+22CA8Kt8qwdXd+7CHua7pTE5QitgvBn5BV96viZSwe6ueqyXhkrnwwVTZ7rTNypg/JJ5t28IgDFEVaxHG4f73Vjl0wj0WVm9112fbXYoYz9HKOxs5g7hdOKZqlZ8zS4kMtSES9kUBPaK97OkpKM3d3pRgYhyMosUcAoxFQOCi4Ei6OpLDvpmEspwYD44k/G2mCedv/0rAyA///5/lrUrQgmBHHhPuBpDsYFD1rmhntgx68DPzzVspQV0sa2/NF+DYb7R9NDsa73pUTe7qQB1CJGvGjOKFkVKC+40Kh6NzmEXi3p6brhHbPUSQoGmycbHbQ1QiiYVCOUBQwWq8LcbKLjdjyv5JiHPjRiAcfhh+Xl+9J08pUrUUkYY5S8RLLGRZfMoblxDcL0Vr9R8p9O3bQDvXAU5RfIyNMnoyRkqV7Vs5v6I1rjFQ7QcP5K601riRdmpbzt/2xw5MzXeDxsjKq+as4fKQ6Aj5P9TFCBbVXMiYwsSpGAcIjbG3YrokIwyXlaKd/Fx29ub2+41D1uGa89MX3RSvK0Qa66zYqpAwL76Vt5Uf5sEYg+32QD1ZgQJcnTwaGm1oVRLHRhGWpNm14fnt8Y2KcTTp0IC+IvpyOq42Ck2dl5LsIrhiu4Ohr6MGq0CBz2yaAMiNLx6y6Zz4gzu5FYAbS+aXmFszxoZNwvI2zKqEhXkigz4AAAAiVBmkI8IZMphX8AGzvXqR9LYm9XmqCgqmVUyXKSPbiTph4POQZ7nBvBVKe8HyHD/qz2KGoZZGu4v7va5Bzh+BqlWeLjV35RuNKWttMQCw6fV/La/GPawDvdJwB+8TE8BvA73fsRNUJO4de6UGEeeQaKYzGSGSLROH14sjQflo/j0+Nu+L+6noXbB7aSrrUaDbPqsxXCi6G6pCG1una/+dZ1Jvr1WsuJkwicXesKwLwC6yf0SG4oJcF939lHDQzc0qfMPDfZ8So9Kbrz8VYV6Cn+sU5TVizPaeIAuG+UxGVXu8VN2wKZBHXK55fCSd8HEBvBq54+2p8OmyWMfh6acGB1iSBxcKoDsdudCSilPRa2R4tggVUVenMzslNhVT5l7wxGcezt89Og0Le3p/IARyl+KcPqxRaob5yFV5SBLtDe5j4iHVnD1k/uR5rjbpzlabhiheNW2tsqFtJYqLTSyqb/qCDhYgfECzu/puXEM2OXiD/MKOYHESShJuOL1KHyBewkfFd4vHTd6MgLYMKjKAPyX68L5RpZO6UkVAhAr1KZgKfxggn1jNoHZS4j4DQlcqic5lao6uWpH8f1mFOyJtJ5Kz5QDUZJ9nLKoS5xih6h/4HJX6DbACVu65zURbroG4AJ4TdnIikXIjv3jmI21xVJlckEbSc04JZOglqks4L7mjTm6b67A9R1R5EyEi7bpTtFI1CD4A4IzsLcYQQ+O8mAGZDFc3sAAAJQQZpjSeEPJlMCvwAg//RaBAAJv8TbNV9gtFLkv+3TDtYZM2cjGCi0E103ImRtf/O7QlZLjDldxfdAWzlzt1iOlvylpHNeQviadxVAWHAtDVYUCBsuP1rylurjWKKrUe+UTAiqu/0+c5o/Yqtin/pI+7BE31geyzP0/YLXGOVaS6JgO1Z6LCKUrMMWd66PmthQm5zK6DdX6uurqJKDaNM1txo2TVFg5ZGXJ57eNw/i683Cb8k3rc3+QDos+HcYNXlqzonVYkYMXRFAR//+cAz9R3EKDSyQutSswP4KW4dHH9VNKxfVKvsJyVemQmthocm3ubrtRk4wbK4Fg8q3Vd0XYajUh0LiODDYTjEw34Tdpp+/SLpG/mOtGQaZhdADev8vmzDNe8okDm4KjeDFShggKuWOfpfvRP9WC5MDY/HNNmF434lPiKy/RPVxPgczdksqoUysrDdfEbMPgdN0Y8TM49ZiMp3h+QG5It7FXoCEyQE+o+oeiicijuukh1PQGpjK+jc/wpOI13uieB5DxsdouFxtIpN6r4SCUryJaPZAeuTDDB+Jo29ug8UvB12YTSgkxpd2HW66e9Ic6WWIb38GF808G963pFyCIwg3hVAMzr5Oo92DkIExlybKRKFq5a8zQkPeN4CWjTrLgCqA9OATZa9ljh1tspateDdUNHltqmYTTRW444RI1cLjD3ZiZTJjQr8/83/2rwO7YXHE4UwJ+29f1Zf3UXPTU0O/bV9aBLKTgrvM0B+blz0u/tN2oyosfTj0JHSIUWmAIsH4iFDegAAAAiRBmoRJ4Q8mUwJPAEjwWIAo23JhEcvka8ZohZMnQFufSBDpWfVyEtOvmbTxU9E+NeV430krcEDz69a0l7PFrWYyUiATFyOGlgg4IjEWrUrFGXqGhOdDaVXmQFGq7IXBhlg8oRBzprBwsZR46LUfiLq5xWQL05tY75GzVsVSsiw01SqN7goZI0Sf0C7k1dhf/BdJxJwDXZ9rNmyFeZPpyAo4NIv36Ywv6cZDIs1aoo9kG/LpQP8FwUXaDxglrzXjFg2epE6aHJFTcB2BBme95Vo06akU7FEATvZqzD59abjdDrY7T3eFKtbEj8nJUbGldKbIumS9NwsJTwgjLrJ21eLRLpjSCGU/pkrmtTpnXoE/Qm9t0gzm6E69B3CpWWY868S9N2tn3uk5pkKwBEUyDhT7zxXYd31mADuthTcWscbzWO12/gH/v8aXisDZms9Blami6jbq7ijBwT8N+n2mFpXyj2sz5peUySGtXHYUf44AWEv3NtHQpB0FiAXZOnw+IHFayVom3WXMoSFRUQj3as4KGdhDyjBMjGc2zLlFyjZyt6y/LRgd0gV1Lmbf2qLyr0yR6mQv4MaluzTTFn/ibn6UjEe1g+9PnFAywbvdWk0OBuT/YQb2PqoAjx/IGBYilWnnxDWgv4gcIwH3g2Iy/C+yNodSXcTf6mEz9KGJe5QNGTc0eNA0h4LPhApfOWcudK2LBQh/jY5HDdOoU3GEfQY1LAcDwQAAAjRBmqVJ4Q8mUwJPAEQkGAbBeI4c7/qDv10TpQASmFlcT0f0X3+UIMj8bnm8VEWLyAiWd0m5c4sCUXmLPnSnk/L8+5iAGOkJYEP1LVK3wCKvgkOuqpU57CejdoTR9ZHCpAcc51PeCoCAj2OkuOKrltZkV7Oe1o1rMNKayfBdKz5CtBaaGafgUK0ak3XlSpt9z6lDB7tDVs0MRkpQ9ouVrfTRLwcJ8Kh/VI8Igu0hQK0es+U9ltDnUwjy8FOBewBGac/PlshbIq4pWv7bx3KzVTATAh2bPpWMIU/u0qItHPeUoLjltxv+F3kOgMsGRFFf1BfZW4Er1WI5S2EE2dWJYf4EvlmaFdzco2uB9wAeoN86LWrD8tHxPYOf8ISBzKuFw5ELZW5S94Bj4XRucjH2hBqCie+nEbR7qVbExDzgPgdplCCd/v9/4dbiwKxLigSlI0GI4ZKkxxgMULk1krGoCwbVyq9ZBNmDuyNJhqnPs5eORmN5dM308OlTw70WlYxoxANyFAcvwrS43ou486Kewy1c1gbIQ3PE3PmRAbb5HnlCgdk7J+CXA0omHF0+ieLqxrB/wQIckDYNfZ8ROMhNe0ZyrRpnX3XnJBIMOt/fNZ6hYufM1y2ATjES7+aetc1Xyf7BAw+mA3DEeyqcbayN4QDJWhnyfvP4Ul01ISJ3DnS6wlUO73frtf6OCqui2uxqc2zTP/6khz7VU2Tn+jEfohf+bU2EEO65eIshdBttxGzckQlMnwkAAAIoQZrGSeEPJlMCbwBTvDD4FVOIj/BqARkfW7MODTx6h6qKYOU2R0imibU/+KSAHvjE+Vc9t8H5x2vnWnWjM7P1T83RB0NcsYTnOZdKagnCsFbNJPD/eLJkvWmsb67RuSixq7woRk0jBZUQweAWbz/ov5PISJbSuAD8D/TjN9h20GM9laIFzvf0+fRHyJTySCSSY49D5GV1LpykUkbQwwD0BBuy6nI9ah8jFRS6r1+Tv+sLDAL+Qn8YEYpKcOpmKnV1i2rg+JhbUsU6TIvqEsvNceXWqdHdYnuSQbzNdUw8xyKd2j9dBOCFdLiZmoi7LzV34OYcYWUrNYi5AWi2Qa84w0kX/K2Drh5D/cpKlLj/RP8GslgFKu/xGkrIrf1a2er545Lii83KDroIBKS6/xb+g+wDTIp7NV0thnc1AVajfW9ftCmjn3QCCTEvb9FPcoJo02TtXtykRWYWSlhHTPWFP+oIJ/3thBeK477uazrRF5dBWCYxZiXt62GEQOuJMoWdot1MWKcH6+JL9K3cMdnHKSnIA8rx/plz5piCl3Tue/7cWbT2xXEs+tVNyYKrSGB2Wojmq+UAIJCnUFdfQN816/HJ+muOxnvhNObxHgFnCwuhV0tFsUfm2Vgae8zRMGl3z24b5jJbsoSVu9uOfFbRtPu6zLHgJxOiNUeLVgLFqJHf2V2wMOPV2px+fShXAwYv/OXx7Un3GMT4BtplrSX765MS333tbob1AAACO0Ga50nhDyZTAiP/AIl/+8F70dVyLNLQULSyLsAS28cB+ofVRTCvreFwbsYnuP/qokZXn2BX5xgoIUNDoERcwDmcagE6Cs2MFOtd/jd8f1mkN4rjbf7yUdWymEys5LYANGWxWdhJi07gWiPLr8ObBAuawlE8ksgx1a3phCYd+vIgU+VD3cY4qs8HEzTv1giNPorfAbpx0LTdQGnnZicjSGyi7irZB5efzPPrFlpU/0rEbq8WEnWVmRzDAxB2EvsIkOK9ytX9AYWkR80rQz8tVIOo0JJ/C8QxVyYf4x3+V2+mORfInKS6OgU1fqbGSJtepVkrJMfKVL1QS+k63e+XGRWlPlkRQXNmNd1wnRaQNKcUCgNp4qJBsLrsrbwaucNC7YDjlOwlHHZq6oFeMp/RQP0oV7O3VUIxPJLQitlLhaXhzBKxqNnP9bPmF+11UCKJGkzaJ56Xca2HLmcujj2wEFPD01v+Mx1UTPVoAUXJK4JXhYif+JItlWYXq9uXxWvfO1x41Sw4uV3IK9AZNMjLwE3xAdEQdsr0O8vC2uwdpqgNPUEEJN7kGRaS7FwAEmx7LZqnuVfTcZcN3j4Uo2meFciXhfNU2R2XO/uX/Y7XyGWAzEbioXCeDTWe/CFQ4C02ZSip8gLXhzPIF/mXLV1NvR6Y7vSCorTZHbHHJdnmpzJdLdqLMzjofdjVjftB0lYZsff2Ce7Dq4jiCAgI+dzBNPePcppAsmTyXAZy/pUFcwNhsN1Z3Xmn7sPPEi8AAAIrQZsISeEPJlMCK/8Ay8GCAFNrVxokBnfksaWd+Nz8lJMh78VzLMwNQn81UAL40LfFqo52iqBOgA6VTguZoTwr1NCCsdK5cWGVIO5zsj7nlK/OjbzwPTJef3d2CtMlaXnHcSTTZE1fn9C01IABknVt9llbiyBFwy4X5tqC0axqExLbhVZru3FTM7TdWyI90tB5oOFwqT+1CjbUZOrsL/4L7C3cUc0v1Amz3DPbGhwyNRrQepyL0AXMV1zJSzyWUyxhugGDElGGXVmnasyY6ZvYN8deuOIaXgbMk+TcABSMBHIGVzxzm0lJDmT5UwgUyQ5MEBKnh33TVXysWQ4c/HxPvQLw12VifFxJQTuw4PeTnIrSxgTm063/xwiNFfv2i+WZ5vv+oQ0VOTrNCrRr7CsK36fZovg5Mdb+CpmQudwVNnqJbJLdBFpMoNctuEZn+fQSrYRXiqyAD+798/Hve0gW51PdOfidq8X57Md4vf9+WsZlno4t5N+3cWtm0LaZMB551xnZVZkIoK1Kky+kJsV3pDibFb7xl/h0Fea2hbPDp+CdUchyyiO8Sk3eAgBo45TutezxnSJ3qBMn/f9EY6MIYF3ldaJyIcs5xMIun/eN8doFqL8C8w8i4Fe5/3jPlfb9auai2xxO+l93V+FMStVWS5VzsR7bVKyVjudwMji6ZfF2k49/ddaoVZlD6j3K0xqASC+6FmYIUNrH8BS5gWjfxHjmhwgQ5qgNLHe9AAACSkGbKUnhDyZTAjv/AXHwyioSlmQV0QCjV6DT/9y8/EPdEEre0/Nrk+vDKvNFpnNn9w5og0XaDJ+wjmsw4InupsA7id+ve74uWy3eD9du9kTxCV6xf7wMMan8sR673ejXIrtxYVH0b9FzCs8oCgGnOb+ClC3ZJZjNm/qih3CEjm2tUzMCZEZuhb3VYUipv+KSakJKtPjZYRasv2uAkh7loGjtMXrOfM+vmHB+T8GNOLPeWOln+HgI6R8S0ZFWUjoMMWQTZViJOsloinwGoloXsAAbsWNRu+N7sMryz6CyRF5IqILrYP7v36DnS5+2WYS3kVWJT1AdfCD/+cOCwFvGPA82cBj5+5gWjhY709sORtQpS1M4ZmFWPLGQ2UupI4pBPhpAAMO6xWtwAy2RkJoM3rUS0aX/bnIAwGk4RXikz3bqzAMtQm9jU+0MgAEikXDWN51V56fVgG3Wa0xsdo0nHTm5eHMClwgCyWhBwz8SiBjEKC7PIzVPbLBYkxBFHnMUJ5KdCk5Dt+C9+XNLCOG56Tr24qGmyLBJ3bzSiGcqYUheaXnGZ6fmPoxMF5daJy7/uFN0CuuHIbi1fVcEQd4lHldfZqtO1+S9eZrt3cZyZbdH7H5l4EGnSwrx7pl/NR5318oKOfmULH6yoDWDEcpbr88Ww5ELir9kXEbNV8n+m7RJ9aZ9W48oCNJzQfI9v6BSB7Aucan5D2dDt28ql+Q57r5SN0hriUAkqE6/yw/tDCQ3++VBfeTT9WZqGj4CMBCPeSIzOxdMpouDUKAAAANsbW9vdgAAAGxtdmhkAAAAAAAAAAAAAAAAAAAD6AAAA+gAAQAAAQAAAAAAAAAAAAAAAAEAAAAAAAAAAAAAAAAAAAABAAAAAAAAAAAAAAAAAABAAAAAAAAAAAAAAAAAAAAAAAAAAAAAAAAAAAAAAAAAAgAAApZ0cmFrAAAAXHRraGQAAAADAAAAAAAAAAAAAAABAAAAAAAAA+gAAAAAAAAAAAAAAAAAAAAAAAEAAAAAAAAAAAAAAAAAAAABAAAAAAAAAAAAAAAAAABAAAAAAXwAAAFAAAAAAAAkZWR0cwAAABxlbHN0AAAAAAAAAAEAAAPoAAAIAAABAAAAAAIObWRpYQAAACBtZGhkAAAAAAAAAAAAAAAAAAAoAAAAKABVxAAAAAAALWhkbHIAAAAAAAAAAHZpZGUAAAAAAAAAAAAAAABWaWRlb0hhbmRsZXIAAAABuW1pbmYAAAAUdm1oZAAAAAEAAAAAAAAAAAAAACRkaW5mAAAAHGRyZWYAAAAAAAAAAQAAAAx1cmwgAAAAAQAAAXlzdGJsAAAAwXN0c2QAAAAAAAAAAQAAALFhdmMxAAAAAAAAAAEAAAAAAAAAAAAAAAAAAAAAAXwBQABIAAAASAAAAAAAAAABFUxhdmM1OS4zNy4xMDAgbGlieDI2NAAAAAAAAAAAAAAAGP//AAAAN2F2Y0MBZAAV/+EAGmdkABWs2UGAp78BEAAAAwAQAAADAUDxYtlgAQAGaOvjyyLA/fj4AAAAABBwYXNwAAAAAQAAAAEAAAAUYnRydAAAAAAAAPLgAADy4AAAABhzdHRzAAAAAAAAAAEAAAAKAAAEAAAAABRzdHNzAAAAAAAAAAEAAAABAAAAGGN0dHMAAAAAAAAAAQAAAAoAAAgAAAAAHHN0c2MAAAAAAAAAAQAAAAEAAAAKAAAAAQAAADxzdHN6AAAAAAAAAAAAAAAKAAAKGAAAAn8AAAIpAAACVAAAAigAAAI4AAACLAAAAj8AAAIvAAACTgAAABRzdGNvAAAAAAAAAAEAAAAwAAAAYnVkdGEAAABabWV0YQAAAAAAAAAhaGRscgAAAAAAAAAAbWRpcmFwcGwAAAAAAAAAAAAAAAAtaWxzdAAAACWpdG9vAAAAHWRhdGEAAAABAAAAAExhdmY1OS4yNy4xMDA=\" type=\"video/mp4\">\n",
       " Your browser does not support the video tag.\n",
       " </video>"
      ],
      "text/plain": [
       "<IPython.core.display.Video object>"
      ]
     },
     "metadata": {},
     "output_type": "display_data"
    }
   ],
   "source": [
    "  env.reset()\n",
    "  env.step(1) # right\n",
    "  env.step(4) # down\n",
    "  env.step(2) # left\n",
    "  env.step(8) # up\n",
    "  env.step(1) # right\n",
    "  env.step(1) # right\n",
    "  env.step(1) # right\n",
    "  env.step(1) # right\n",
    "  env.step(1) # right\n",
    "  env.showReplay()"
   ]
  },
  {
   "cell_type": "markdown",
   "metadata": {
    "id": "9SM11SlOJKFv"
   },
   "source": [
    "##Example 3:\n",
    "###Simple random agent with Visualization"
   ]
  },
  {
   "cell_type": "code",
   "execution_count": null,
   "metadata": {
    "colab": {
     "base_uri": "https://localhost:8080/",
     "height": 359
    },
    "id": "XcaLZtXoIdFw",
    "outputId": "ae6d49be-1051-4a2e-825f-79cc1ad9f011"
   },
   "outputs": [],
   "source": [
    "class RandomAgent:\n",
    "  def __init__(self, actions):\n",
    "    self.actions = actions\n",
    "\n",
    "  def play(self, state):\n",
    "    return np.random.choice(self.actions)\n",
    "\n",
    "env.reset()\n",
    "info = env.info()\n",
    "state = env.state()\n",
    "agent = RandomAgent(info[\"actions\"])\n",
    "for step in range(300):\n",
    "  action = agent.play(state)\n",
    "  state = env.step(action)\n",
    "  if state[3] == True:\n",
    "    break\n",
    "env.showReplay()\n",
    "if(state[2]>0):\n",
    "  print(\"Yupi :)\")\n",
    "if(state[2]<0):\n",
    "  print(\":<\")"
   ]
  },
  {
   "cell_type": "markdown",
   "metadata": {
    "id": "T1GvDOPPHbpx"
   },
   "source": [
    "#PL\n",
    "###Zadanie 1 --- max 20 p.\n",
    "\n",
    "Zaimplementuj algorytm Monte-Carlo do uczenia wartość *V*.<br>\n",
    "Kluczowe elementy:\n",
    "* Implementacja tablicy wartości *V*.\n",
    "* Opracowanie funkcji wyboru najlepszej akcji na podstawie tablicy wartości *V*.\n",
    "* Implementacja algorytmu aktualizacji tablicy wartości *V* na podstawie zebranych epizodów.\n",
    "* Implementacja dwóch metody eksploracji: e-greedy + inna metoda.\n",
    "* Dobór długości epizodów, liczby epizodów i epok.\n",
    "\n",
    "Przetestuj uczenie:\n",
    "* bez kary za krok,\n",
    "* z karą -0.1 za krok,\n",
    "* zaproponuj własną karę za krok i inne usprawnienia.\n",
    "\n",
    "Jak kara za krok wpływa na zaimplementowaną motodę uczenia wartości *V*?<br>\n",
    "Przedstaw wyniki oraz wnioski z uczenia wartości *V* metodą Monte-Carlo."
   ]
  },
  {
   "cell_type": "markdown",
   "metadata": {
    "id": "rycDXUL9HgyR"
   },
   "source": [
    "#Eng\n",
    "###Assignment 1 --- max 20 p.\n",
    "Implement the Monte Carlo algorithm for learning the *V-value* function.<br>\n",
    "Key elements:\n",
    "* V-value array implementation.\n",
    "* Development of a function to choose the best action based on the V-value array.\n",
    "* Implementation of an algorithm to update the *V-values* based on the collected episodes.\n",
    "* Implementation of the two exploration methods: e-greedy + other method.\n",
    "* Selection of the maximum length of episodes, number of episodes and epochs.\n",
    "\n",
    "Test learning:\n",
    "* without step penalty,\n",
    "* with -0.1 penalty per step,\n",
    "* suggest your own step penalty and other improvements.\n",
    "\n",
    "How does the step penalty affect the implemented V learning method? <br>\n",
    "Present the results and conclusions from learning the V-values using the Monte-Carlo method."
   ]
  },
  {
   "cell_type": "markdown",
   "metadata": {
    "id": "k2u14Ob9HmO_"
   },
   "source": [
    "#My Solution"
   ]
  },
  {
   "cell_type": "code",
   "execution_count": null,
   "metadata": {
    "id": "AJF7BUHEHbWo"
   },
   "outputs": [],
   "source": []
  }
 ],
 "metadata": {
  "colab": {
   "provenance": []
  },
  "kernelspec": {
   "display_name": "Python 3 (ipykernel)",
   "language": "python",
   "name": "python3"
  },
  "language_info": {
   "codemirror_mode": {
    "name": "ipython",
    "version": 3
   },
   "file_extension": ".py",
   "mimetype": "text/x-python",
   "name": "python",
   "nbconvert_exporter": "python",
   "pygments_lexer": "ipython3",
   "version": "3.11.2"
  }
 },
 "nbformat": 4,
 "nbformat_minor": 4
}
