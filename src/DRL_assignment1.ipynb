{
 "cells": [
  {
   "cell_type": "markdown",
   "metadata": {
    "id": "sOofOuBQHL9r"
   },
   "source": [
    "# Deep Reinforcement Learning --- Assignment 1"
   ]
  },
  {
   "cell_type": "markdown",
   "metadata": {
    "id": "xLe4U_TabApv"
   },
   "source": [
    "# The environment\n",
    "The environment was defined in the Maze class.<br><br>\n",
    "## The most important elements:\n",
    "### State\n",
    "State is returned by methods step(action) and state().<br>\n",
    "State consists of 5 values:\n",
    "* position, lastAction, reward, done, info*:\n",
    "* position --- tuple of two real numbers (y, x),\n",
    "* lastAction --- last action passed to step(),\n",
    "* reward --- real number,\n",
    "* done --- boolean value: True if game is over,\n",
    "\n",
    "### Info\n",
    "Method *info()* returns a dictionary containing information about the environment,\n",
    " * dimensions --- shape of the environment,\n",
    " * epsilon --- the probability of taking a random step,\n",
    " * actions --- available actions.\n",
    "\n",
    "### Action\n",
    "Action is determined by value: 1, 2, 4 or 8:\n",
    "*   1 --- right,\n",
    "*   2 --- left,\n",
    "*   4 --- down,\n",
    "*   8 --- up.\n",
    "\n",
    "### Reset\n",
    "reset(fixedPosition=True) resets the eivironment.<br>\n",
    "fixedPosition:\n",
    "* True --- agent starts at position 1, 1\n",
    "* False --- agent starts at random position\n",
    "\n",
    "### Visualisation\n",
    "* display() --- display image of actual environment state\n",
    "* showReplay() --- display video of the last game"
   ]
  },
  {
   "cell_type": "markdown",
   "metadata": {
    "id": "62C4emZIH30a"
   },
   "source": [
    "# Loading environment\n",
    "**Put your ID in the *student_id* variable**\n",
    "\n",
    "---\n",
    "\n"
   ]
  },
  {
   "cell_type": "code",
   "metadata": {
    "id": "wCVcc29UG86g",
    "ExecuteTime": {
     "end_time": "2024-12-01T13:45:44.272119Z",
     "start_time": "2024-12-01T13:45:44.249142Z"
    }
   },
   "source": [
    "import numpy as np\n",
    "import cv2\n",
    "import matplotlib.pyplot as plt\n",
    "from IPython.display import clear_output\n",
    "from IPython.display import Video, display\n",
    "import os\n",
    "\n",
    "class Cell:\n",
    "  cellType = 0\n",
    "  def __init__(self, cellType=0, reward=0, available=True, terminal=False):\n",
    "    self.reward = reward\n",
    "    self.walls = 0\n",
    "    self.cellType = cellType\n",
    "    self.available = available\n",
    "    self.terminal = terminal\n",
    "\n",
    "  def __str__(self):\n",
    "    return self.cellType\n",
    "\n",
    "class Sprite:\n",
    "  def __init__(self, img, mask):\n",
    "    self.img = img\n",
    "    self.mask = mask\n",
    "    self.width, self.height, _ = img.shape\n",
    "\n",
    "  def draw(self, img, position):\n",
    "    img[position[1] : position[1]+self.height, position[0] : position[0]+self.height] &= self.mask\n",
    "    img[position[1] : position[1]+self.height, position[0] : position[0]+self.height] |= self.img\n",
    "\n",
    "class Maze:\n",
    "  def __init__(self, maze, colors, player, background, resolution, epsilon=0):\n",
    "    self.maze = maze\n",
    "    self.colors = colors\n",
    "    self.player = player\n",
    "    self.resolution = resolution\n",
    "    self.epsilon=epsilon\n",
    "    self.background = background\n",
    "    self.mazeHeight, self.mazeWidth = maze.shape\n",
    "    self.imgWidth = self.mazeWidth * self.resolution\n",
    "    self.imgHeight = self.mazeHeight * self.resolution\n",
    "    self.reset()\n",
    "\n",
    "  def reset(self, fixedPosition=True):\n",
    "    self.reward = 0.0\n",
    "    self.cumulativeReward = 0.0\n",
    "    self.steps = 0\n",
    "    self.x = 1*fixedPosition\n",
    "    self.y = 1*fixedPosition\n",
    "    while(not self.maze[self.y, self.x].available):\n",
    "      self.x = np.random.randint(1, self.mazeWidth)\n",
    "      self.y = np.random.randint(1, self.mazeHeight)\n",
    "    self.replay_path = []\n",
    "    self.replay_path.append((self.y, self.x))\n",
    "\n",
    "  def info(self):\n",
    "    info = dict()\n",
    "    info[\"dimensions\"] = self.maze.shape\n",
    "    info[\"epsilon\"] = self.epsilon\n",
    "    info[\"actions\"] = (1, 2, 4, 8)\n",
    "    return info\n",
    "\n",
    "  def render(self):\n",
    "    border = 10\n",
    "    img = self.background.copy()\n",
    "    self.player.draw(img, (self.x*self.resolution, self.y*self.resolution))\n",
    "    img = img[self.resolution-border: -self.resolution+border, self.resolution-border: -self.resolution+border]\n",
    "    return img\n",
    "\n",
    "  def display(self):\n",
    "    plt.imshow(self.render())\n",
    "    plt.show()\n",
    "\n",
    "  def showReplay(self):\n",
    "    video_path = \"tmp.mp4\"\n",
    "    video = cv2.VideoWriter(video_path, cv2.VideoWriter_fourcc(*\"mp4v\"), 10.0, (env.render().shape[1::-1]))\n",
    "    for pos in self.replay_path:\n",
    "      self.y, self.x = pos\n",
    "      video.write(env.render())\n",
    "    video.release()\n",
    "    fileToDisplay = \"video.mp4\"\n",
    "    os.system(f\"ffmpeg -loglevel quiet -y -i {video_path} -vcodec libx264 -x264opts keyint=123:min-keyint=120 -an {fileToDisplay}\")\n",
    "    display(Video(fileToDisplay, embed=True))\n",
    "\n",
    "  def action(self, dir):\n",
    "    dir_e = int((np.random.randint(1,3)<<2)/((dir|dir>>1)&5)*(np.random.random()<self.epsilon))\n",
    "    dir = dir*(not dir_e) | dir_e\n",
    "    x=self.x + (dir&1) - (dir>>1&1)\n",
    "    y=self.y + (dir>>2&1) - (dir>>3&1)\n",
    "    self.x=x*self.maze[y, x].available + self.x*(not self.maze[y, x].available)\n",
    "    self.y=y*self.maze[y, x].available + self.y*(not self.maze[y, x].available)\n",
    "    self.replay_path.append((self.y, self.x))\n",
    "    return dir\n",
    "\n",
    "  def state(self, lastAction = 0):\n",
    "    done = self.maze[self.y, self.x].terminal\n",
    "    reward = self.maze[self.y, self.x].reward\n",
    "    info = self.info()\n",
    "    return (self.y, self.x), lastAction, reward, done\n",
    "\n",
    "  def step(self, action):\n",
    "    action = self.action(action)\n",
    "    return self.state(action)\n"
   ],
   "outputs": [],
   "execution_count": 4
  },
  {
   "cell_type": "code",
   "metadata": {
    "id": "b9C8gGvEH4z2",
    "ExecuteTime": {
     "end_time": "2024-12-01T13:45:44.745575Z",
     "start_time": "2024-12-01T13:45:44.737397Z"
    }
   },
   "source": [
    "from urllib.request import urlopen\n",
    "import pickle\n",
    "\n",
    "def download_dataset(filename):\n",
    "  base_url =f\"https://github.com/pa-k/DRL2022/blob/main/DRL_assignment1/{filename}?raw=true\"\n",
    "  url = urlopen(base_url)\n",
    "  binary_data = url.read()\n",
    "  with open(filename, \"wb\") as f:\n",
    "    f.write(binary_data)\n",
    "\n",
    "def loadEnv(student_id):\n",
    "  file_id = student_id%5\n",
    "  filename = f\"DRL_a{file_id}.pickle\"\n",
    "  if not os.path.exists(filename):\n",
    "    download_dataset(filename)\n",
    "  with open(filename, 'rb') as file2:\n",
    "    env = pickle.load(file2)\n",
    "  return env\n",
    "\n",
    "student_id = 184266    #Your id\n",
    "env = loadEnv(student_id)\n"
   ],
   "outputs": [],
   "execution_count": 5
  },
  {
   "metadata": {
    "id": "-1vnf1_2H6oy"
   },
   "cell_type": "markdown",
   "source": "#Printing environment and the state details"
  },
  {
   "cell_type": "code",
   "metadata": {
    "colab": {
     "base_uri": "https://localhost:8080/"
    },
    "id": "ZIBs_RLdII1P",
    "outputId": "ee0da900-e112-421c-985a-cc263dbfff39",
    "ExecuteTime": {
     "end_time": "2024-12-01T13:45:49.302833Z",
     "start_time": "2024-12-01T13:45:49.295087Z"
    }
   },
   "source": [
    "info = env.info()\n",
    "print(\"info\", info)\n",
    "print(\"environment dimensions\", info[\"dimensions\"])\n",
    "print(\"probability of random step\", info[\"epsilon\"])\n",
    "print(\"allowed actions\", info[\"actions\"])\n",
    "\n",
    "actPos, action, reward, done = env.state()\n",
    "print(\"\\nagent position\", actPos)\n",
    "print(\"performed action\", action)\n",
    "print(\"last reward\", reward)\n",
    "print(\"the game is over\", done)"
   ],
   "outputs": [
    {
     "name": "stdout",
     "output_type": "stream",
     "text": [
      "info {'dimensions': (7, 8), 'epsilon': 0.0, 'actions': (1, 2, 4, 8)}\n",
      "environment dimensions (7, 8)\n",
      "probability of random step 0.0\n",
      "allowed actions (1, 2, 4, 8)\n",
      "\n",
      "agent position (1, 1)\n",
      "performed action 0\n",
      "last reward 0\n",
      "the game is over False\n"
     ]
    }
   ],
   "execution_count": 6
  },
  {
   "cell_type": "markdown",
   "metadata": {
    "id": "fuV7wkoJIK7J"
   },
   "source": [
    "#Visualization examples"
   ]
  },
  {
   "cell_type": "markdown",
   "metadata": {
    "id": "X3OKuByhIcwd"
   },
   "source": [
    "##Example 1:\n",
    "###Print environment status and display visualization in four steps: right, right, left, down"
   ]
  },
  {
   "metadata": {
    "colab": {
     "base_uri": "https://localhost:8080/",
     "height": 1000
    },
    "id": "PqBPDcYaIc8d",
    "outputId": "e10560c5-a257-4f6c-978a-0ab4eeec1220"
   },
   "cell_type": "code",
   "source": [
    "steps = [1, 1, 2, 4] # right, right, left, down\n",
    "env.reset()\n",
    "print(env.state())\n",
    "env.display()\n",
    "for step in steps:\n",
    "  state = env.step(step)\n",
    "  print(\"\\n\\n\", state)\n",
    "  env.display()"
   ],
   "outputs": [],
   "execution_count": null
  },
  {
   "metadata": {
    "id": "JO_MhqJWI5Gk"
   },
   "cell_type": "markdown",
   "source": [
    "##Example 2:\n",
    "### Generating a video of last game"
   ]
  },
  {
   "metadata": {
    "colab": {
     "base_uri": "https://localhost:8080/",
     "height": 342
    },
    "id": "8jDnoN-OIdCe",
    "outputId": "f3fefe3b-3bd0-4eea-b5cc-86a7ec612b7f",
    "ExecuteTime": {
     "end_time": "2024-12-01T13:45:54.994450Z",
     "start_time": "2024-12-01T13:45:54.459707Z"
    }
   },
   "cell_type": "code",
   "source": [
    "  env.reset()\n",
    "  env.step(1) # right\n",
    "  env.step(4) # down\n",
    "  env.step(2) # left\n",
    "  env.step(8) # up\n",
    "  env.step(1) # right\n",
    "  env.step(1) # right\n",
    "  env.step(1) # right\n",
    "  env.step(1) # right\n",
    "  env.step(1) # right\n",
    "  env.showReplay()"
   ],
   "outputs": [
    {
     "data": {
      "text/plain": [
       "<IPython.core.display.Video object>"
      ],
      "text/html": [
       "<video controls  >\n",
       " <source src=\"data:video/mp4;base64,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\" type=\"video/mp4\">\n",
       " Your browser does not support the video tag.\n",
       " </video>"
      ]
     },
     "metadata": {},
     "output_type": "display_data"
    }
   ],
   "execution_count": 8
  },
  {
   "cell_type": "markdown",
   "metadata": {
    "id": "9SM11SlOJKFv"
   },
   "source": [
    "## Example 3:\n",
    "### Simple random agent with Visualization"
   ]
  },
  {
   "cell_type": "code",
   "metadata": {
    "colab": {
     "base_uri": "https://localhost:8080/",
     "height": 359
    },
    "id": "XcaLZtXoIdFw",
    "outputId": "ae6d49be-1051-4a2e-825f-79cc1ad9f011",
    "ExecuteTime": {
     "end_time": "2024-12-01T18:57:38.104445Z",
     "start_time": "2024-12-01T18:57:38.096765Z"
    }
   },
   "source": [
    "class RandomAgent:\n",
    "  def __init__(self, actions):\n",
    "    self.actions = actions\n",
    "\n",
    "  def play(self, state):\n",
    "    return np.random.choice(self.actions)\n",
    "\n",
    "env.reset()\n",
    "info = env.info()\n",
    "state = env.state()\n",
    "agent = RandomAgent(info[\"actions\"])\n",
    "for step in range(300):\n",
    "  action = agent.play(state)\n",
    "  state = env.step(action)\n",
    "  if state[3] == True:\n",
    "    break\n",
    "env.showReplay()\n",
    "if(state[2]>0):\n",
    "  print(\"Yupi :)\")\n",
    "if(state[2]<0):\n",
    "  print(\":<\")"
   ],
   "outputs": [
    {
     "name": "stdout",
     "output_type": "stream",
     "text": [
      ":<\n"
     ]
    }
   ],
   "execution_count": 10
  },
  {
   "cell_type": "markdown",
   "metadata": {
    "id": "T1GvDOPPHbpx"
   },
   "source": [
    "# PL\n",
    "### Zadanie 1 --- max 20 p.\n",
    "\n",
    "Zaimplementuj algorytm Monte-Carlo do uczenia wartość *V*.<br>\n",
    "Kluczowe elementy:\n",
    "* Implementacja tablicy wartości *V*.\n",
    "* Opracowanie funkcji wyboru najlepszej akcji na podstawie tablicy wartości *V*.\n",
    "* Implementacja algorytmu aktualizacji tablicy wartości *V* na podstawie zebranych epizodów.\n",
    "* Implementacja dwóch metody eksploracji: e-greedy + inna metoda.\n",
    "* Dobór długości epizodów, liczby epizodów i epok.\n",
    "\n",
    "Przetestuj uczenie:\n",
    "* bez kary za krok,\n",
    "* z karą -0.1 za krok,\n",
    "* zaproponuj własną karę za krok i inne usprawnienia.\n",
    "\n",
    "Jak kara za krok wpływa na zaimplementowaną motodę uczenia wartości *V*?<br>\n",
    "Przedstaw wyniki oraz wnioski z uczenia wartości *V* metodą Monte-Carlo."
   ]
  },
  {
   "cell_type": "markdown",
   "metadata": {
    "id": "rycDXUL9HgyR"
   },
   "source": [
    "# Eng\n",
    "### Assignment 1 --- max 20 p.\n",
    "Implement the Monte Carlo algorithm for learning the *V-value* function.<br>\n",
    "Key elements:\n",
    "* V-value array implementation.\n",
    "* Development of a function to choose the best action based on the V-value array.\n",
    "* Implementation of an algorithm to update the *V-values* based on the collected episodes.\n",
    "* Implementation of the two exploration methods: e-greedy + other method.\n",
    "* Selection of the maximum length of episodes, number of episodes and epochs.\n",
    "\n",
    "Test learning:\n",
    "* without step penalty,\n",
    "* with -0.1 penalty per step,\n",
    "* suggest your own step penalty and other improvements.\n",
    "\n",
    "How does the step penalty affect the implemented V learning method? <br>\n",
    "Present the results and conclusions from learning the V-values using the Monte-Carlo method."
   ]
  },
  {
   "cell_type": "markdown",
   "metadata": {
    "id": "k2u14Ob9HmO_"
   },
   "source": [
    "# My Solution"
   ]
  },
  {
   "cell_type": "code",
   "execution_count": null,
   "metadata": {
    "ExecuteTime": {
     "end_time": "2024-11-30T12:57:11.749748Z",
     "start_time": "2024-11-30T12:57:11.747571Z"
    },
    "id": "AJF7BUHEHbWo"
   },
   "outputs": [],
   "source": [
    "class Monte_Carlo_agent:\n",
    "  def __init__(self, actions, shape=env.info()[\"dimensions\"]):\n",
    "    self.actions = actions\n",
    "    self.v_table = [[0]*shape[1] for _ in range(shape[0])]\n",
    "  def decide(self, state):\n",
    "    return NotImplementedError\n",
    "  def perform_run(self):\n",
    "    return NotImplementedError"
   ]
  }
 ],
 "metadata": {
  "colab": {
   "provenance": []
  },
  "kernelspec": {
   "display_name": "Python 3 (ipykernel)",
   "language": "python",
   "name": "python3"
  },
  "language_info": {
   "codemirror_mode": {
    "name": "ipython",
    "version": 3
   },
   "file_extension": ".py",
   "mimetype": "text/x-python",
   "name": "python",
   "nbconvert_exporter": "python",
   "pygments_lexer": "ipython3",
   "version": "3.11.2"
  }
 },
 "nbformat": 4,
 "nbformat_minor": 4
}
